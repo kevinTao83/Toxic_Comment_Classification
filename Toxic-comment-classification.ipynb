{
 "cells": [
  {
   "cell_type": "markdown",
   "metadata": {},
   "source": [
    "## Import package"
   ]
  },
  {
   "cell_type": "code",
   "execution_count": 1,
   "metadata": {},
   "outputs": [
    {
     "name": "stderr",
     "output_type": "stream",
     "text": [
      "C:\\Users\\f2002\\Anaconda3\\lib\\site-packages\\sklearn\\cross_validation.py:41: DeprecationWarning: This module was deprecated in version 0.18 in favor of the model_selection module into which all the refactored classes and functions are moved. Also note that the interface of the new CV iterators are different from that of this module. This module will be removed in 0.20.\n",
      "  \"This module will be removed in 0.20.\", DeprecationWarning)\n",
      "C:\\Users\\f2002\\Anaconda3\\lib\\site-packages\\sklearn\\learning_curve.py:22: DeprecationWarning: This module was deprecated in version 0.18 in favor of the model_selection module into which all the functions are moved. This module will be removed in 0.20\n",
      "  DeprecationWarning)\n",
      "C:\\Users\\f2002\\Anaconda3\\lib\\site-packages\\h5py\\__init__.py:36: FutureWarning: Conversion of the second argument of issubdtype from `float` to `np.floating` is deprecated. In future, it will be treated as `np.float64 == np.dtype(float).type`.\n",
      "  from ._conv import register_converters as _register_converters\n",
      "Using TensorFlow backend.\n"
     ]
    }
   ],
   "source": [
    "import pandas as pd\n",
    "import numpy as np\n",
    "import matplotlib.pyplot as plt\n",
    "import seaborn as sb\n",
    "import nltk\n",
    "import re\n",
    "\n",
    "from sklearn.model_selection import train_test_split, cross_val_score\n",
    "from sklearn.learning_curve import learning_curve\n",
    "from sklearn.pipeline import Pipeline\n",
    "from sklearn.linear_model import LogisticRegression\n",
    "from keras.preprocessing.text import Tokenizer\n",
    "from keras.preprocessing.sequence import pad_sequences\n",
    "\n",
    "import logging\n",
    "from sklearn.metrics import roc_auc_score\n",
    "from keras.callbacks import Callback, EarlyStopping\n",
    "from keras.layers import Dense, Input, LSTM, GRU, Embedding, Dropout, Activation, BatchNormalization, Conv1D, CuDNNGRU, CuDNNLSTM, concatenate\n",
    "from keras.layers import Bidirectional, GlobalMaxPool1D, MaxPooling1D, GlobalMaxPooling1D, SpatialDropout1D, GlobalAveragePooling1D\n",
    "from keras.models import Model, Sequential\n",
    "from keras.optimizers import Adam\n",
    "from keras import initializers, regularizers, constraints, optimizers, layers, callbacks\n",
    "import time\n",
    "\n",
    "%matplotlib inline"
   ]
  },
  {
   "cell_type": "markdown",
   "metadata": {},
   "source": [
    "## Get the data"
   ]
  },
  {
   "cell_type": "code",
   "execution_count": 2,
   "metadata": {},
   "outputs": [
    {
     "name": "stdout",
     "output_type": "stream",
     "text": [
      "The train's shape is (159571, 8)\n",
      "The test's shape is (153164, 2)\n"
     ]
    }
   ],
   "source": [
    "train = pd.read_csv('train.csv')\n",
    "test = pd.read_csv('test.csv')\n",
    "train_text = train['comment_text']\n",
    "test_text = test['comment_text']\n",
    "all_text = pd.concat((train_text, test_text))\n",
    "print('The train\\'s shape is {}'.format(train.shape))\n",
    "print('The test\\'s shape is {}'.format(test.shape))"
   ]
  },
  {
   "cell_type": "code",
   "execution_count": 3,
   "metadata": {},
   "outputs": [
    {
     "name": "stdout",
     "output_type": "stream",
     "text": [
      "The target's shape is (159571, 6)\n"
     ]
    }
   ],
   "source": [
    "train_target = train.drop(['id', 'comment_text'], axis = 1)\n",
    "print('The target\\'s shape is {}'.format(train_target.shape))"
   ]
  },
  {
   "cell_type": "markdown",
   "metadata": {},
   "source": [
    "## Display the target structure"
   ]
  },
  {
   "cell_type": "code",
   "execution_count": 4,
   "metadata": {},
   "outputs": [
    {
     "data": {
      "text/html": [
       "<div>\n",
       "<style scoped>\n",
       "    .dataframe tbody tr th:only-of-type {\n",
       "        vertical-align: middle;\n",
       "    }\n",
       "\n",
       "    .dataframe tbody tr th {\n",
       "        vertical-align: top;\n",
       "    }\n",
       "\n",
       "    .dataframe thead th {\n",
       "        text-align: right;\n",
       "    }\n",
       "</style>\n",
       "<table border=\"1\" class=\"dataframe\">\n",
       "  <thead>\n",
       "    <tr style=\"text-align: right;\">\n",
       "      <th></th>\n",
       "      <th>toxic</th>\n",
       "      <th>severe_toxic</th>\n",
       "      <th>obscene</th>\n",
       "      <th>threat</th>\n",
       "      <th>insult</th>\n",
       "      <th>identity_hate</th>\n",
       "    </tr>\n",
       "  </thead>\n",
       "  <tbody>\n",
       "    <tr>\n",
       "      <th>count</th>\n",
       "      <td>159571.000000</td>\n",
       "      <td>159571.000000</td>\n",
       "      <td>159571.000000</td>\n",
       "      <td>159571.000000</td>\n",
       "      <td>159571.000000</td>\n",
       "      <td>159571.000000</td>\n",
       "    </tr>\n",
       "    <tr>\n",
       "      <th>mean</th>\n",
       "      <td>0.095844</td>\n",
       "      <td>0.009996</td>\n",
       "      <td>0.052948</td>\n",
       "      <td>0.002996</td>\n",
       "      <td>0.049364</td>\n",
       "      <td>0.008805</td>\n",
       "    </tr>\n",
       "    <tr>\n",
       "      <th>std</th>\n",
       "      <td>0.294379</td>\n",
       "      <td>0.099477</td>\n",
       "      <td>0.223931</td>\n",
       "      <td>0.054650</td>\n",
       "      <td>0.216627</td>\n",
       "      <td>0.093420</td>\n",
       "    </tr>\n",
       "    <tr>\n",
       "      <th>min</th>\n",
       "      <td>0.000000</td>\n",
       "      <td>0.000000</td>\n",
       "      <td>0.000000</td>\n",
       "      <td>0.000000</td>\n",
       "      <td>0.000000</td>\n",
       "      <td>0.000000</td>\n",
       "    </tr>\n",
       "    <tr>\n",
       "      <th>25%</th>\n",
       "      <td>0.000000</td>\n",
       "      <td>0.000000</td>\n",
       "      <td>0.000000</td>\n",
       "      <td>0.000000</td>\n",
       "      <td>0.000000</td>\n",
       "      <td>0.000000</td>\n",
       "    </tr>\n",
       "    <tr>\n",
       "      <th>50%</th>\n",
       "      <td>0.000000</td>\n",
       "      <td>0.000000</td>\n",
       "      <td>0.000000</td>\n",
       "      <td>0.000000</td>\n",
       "      <td>0.000000</td>\n",
       "      <td>0.000000</td>\n",
       "    </tr>\n",
       "    <tr>\n",
       "      <th>75%</th>\n",
       "      <td>0.000000</td>\n",
       "      <td>0.000000</td>\n",
       "      <td>0.000000</td>\n",
       "      <td>0.000000</td>\n",
       "      <td>0.000000</td>\n",
       "      <td>0.000000</td>\n",
       "    </tr>\n",
       "    <tr>\n",
       "      <th>max</th>\n",
       "      <td>1.000000</td>\n",
       "      <td>1.000000</td>\n",
       "      <td>1.000000</td>\n",
       "      <td>1.000000</td>\n",
       "      <td>1.000000</td>\n",
       "      <td>1.000000</td>\n",
       "    </tr>\n",
       "  </tbody>\n",
       "</table>\n",
       "</div>"
      ],
      "text/plain": [
       "               toxic   severe_toxic        obscene         threat  \\\n",
       "count  159571.000000  159571.000000  159571.000000  159571.000000   \n",
       "mean        0.095844       0.009996       0.052948       0.002996   \n",
       "std         0.294379       0.099477       0.223931       0.054650   \n",
       "min         0.000000       0.000000       0.000000       0.000000   \n",
       "25%         0.000000       0.000000       0.000000       0.000000   \n",
       "50%         0.000000       0.000000       0.000000       0.000000   \n",
       "75%         0.000000       0.000000       0.000000       0.000000   \n",
       "max         1.000000       1.000000       1.000000       1.000000   \n",
       "\n",
       "              insult  identity_hate  \n",
       "count  159571.000000  159571.000000  \n",
       "mean        0.049364       0.008805  \n",
       "std         0.216627       0.093420  \n",
       "min         0.000000       0.000000  \n",
       "25%         0.000000       0.000000  \n",
       "50%         0.000000       0.000000  \n",
       "75%         0.000000       0.000000  \n",
       "max         1.000000       1.000000  "
      ]
     },
     "execution_count": 4,
     "metadata": {},
     "output_type": "execute_result"
    }
   ],
   "source": [
    "train_target.describe()"
   ]
  },
  {
   "cell_type": "code",
   "execution_count": 8,
   "metadata": {
    "scrolled": true
   },
   "outputs": [
    {
     "data": {
      "text/plain": [
       "Text(0.5,0,'num of labels')"
      ]
     },
     "execution_count": 8,
     "metadata": {},
     "output_type": "execute_result"
    },
    {
     "data": {
      "image/png": "[encoded data removed]",
      "text/plain": [
       "<matplotlib.figure.Figure at 0x214074a0c18>"
      ]
     },
     "metadata": {},
     "output_type": "display_data"
    }
   ],
   "source": [
    "plt.subplots(figsize=(20, 10))\n",
    "sb.countplot(data = train_target.sum(axis = 1), x = train_target.sum(axis = 1).index)\n",
    "plt.xlabel('num of labels')"
   ]
  },
  {
   "cell_type": "code",
   "execution_count": 47,
   "metadata": {
    "scrolled": true
   },
   "outputs": [
    {
     "data": {
      "text/plain": [
       "Text(0,0.5,'percentage of total labels')"
      ]
     },
     "execution_count": 47,
     "metadata": {},
     "output_type": "execute_result"
    },
    {
     "data": {
      "image/png": "[encoded data removed]",
      "text/plain": [
       "<matplotlib.figure.Figure at 0x192848935f8>"
      ]
     },
     "metadata": {},
     "output_type": "display_data"
    }
   ],
   "source": [
    "plt.subplots(figsize = (18, 10))\n",
    "sb.barplot(x = train_target.sum().index, y = train_target.sum()/train_target.shape[0])\n",
    "plt.xlabel('labels')\n",
    "plt.ylabel('percentage of total labels')"
   ]
  },
  {
   "cell_type": "markdown",
   "metadata": {},
   "source": [
    "As we seen above, this project is unbalance, and have multiple lables. "
   ]
  },
  {
   "cell_type": "code",
   "execution_count": 5,
   "metadata": {},
   "outputs": [
    {
     "name": "stdout",
     "output_type": "stream",
     "text": [
      "The mean of total length is 379.7732617071962\n",
      "The std of total length is 591.7677911923058\n",
      "The min of total length is 1\n",
      "The max of total length is 5000\n"
     ]
    }
   ],
   "source": [
    "lens = all_text.str.len()\n",
    "print('The mean of total length is {}'.format(lens.mean()))\n",
    "print('The std of total length is {}'.format(lens.std()))\n",
    "print('The min of total length is {}'.format(lens.min()))\n",
    "print('The max of total length is {}'.format(lens.max()))"
   ]
  },
  {
   "cell_type": "code",
   "execution_count": 6,
   "metadata": {},
   "outputs": [
    {
     "data": {
      "text/plain": [
       "Text(0,0.5,'counts')"
      ]
     },
     "execution_count": 6,
     "metadata": {},
     "output_type": "execute_result"
    },
    {
     "data": {
      "image/png": "[encoded data removed]",
      "text/plain": [
       "<Figure size 432x288 with 1 Axes>"
      ]
     },
     "metadata": {},
     "output_type": "display_data"
    }
   ],
   "source": [
    "lens.hist()\n",
    "plt.xlabel('length of each comment')\n",
    "plt.ylabel('counts')"
   ]
  },
  {
   "cell_type": "markdown",
   "metadata": {},
   "source": [
    "## Process the text data"
   ]
  },
  {
   "cell_type": "markdown",
   "metadata": {},
   "source": [
    "#### tf-idf method"
   ]
  },
  {
   "cell_type": "code",
   "execution_count": 4,
   "metadata": {},
   "outputs": [],
   "source": [
    "from sklearn.feature_extraction.text import TfidfVectorizer\n",
    "from sklearn.pipeline import make_union\n",
    "word_vectorizer = TfidfVectorizer(\n",
    "    sublinear_tf=True,\n",
    "    strip_accents='unicode',\n",
    "    analyzer='word',\n",
    "    token_pattern=r'\\w{1,}',\n",
    "    ngram_range=(1, 2),\n",
    "    max_features=30000)\n",
    "\n",
    "char_vectorizer = TfidfVectorizer(\n",
    "    sublinear_tf=True,\n",
    "    strip_accents='unicode',\n",
    "    analyzer='char',\n",
    "    ngram_range=(1, 4),\n",
    "    max_features=30000)\n",
    "\n",
    "vectorizer = make_union(word_vectorizer, char_vectorizer)"
   ]
  },
  {
   "cell_type": "code",
   "execution_count": 5,
   "metadata": {},
   "outputs": [
    {
     "name": "stdout",
     "output_type": "stream",
     "text": [
      "tf-idf method used 468.07717275619507 seconds\n"
     ]
    }
   ],
   "source": [
    "tf_start = time.time()\n",
    "vectorizer.fit(all_text)\n",
    "train_feature = vectorizer.transform(train_text)\n",
    "test_feature = vectorizer.transform(test_text)\n",
    "tf_end = time.time()\n",
    "tf_time = tf_end - tf_start\n",
    "print(\"tf-idf method used {} seconds\".format(tf_time))"
   ]
  },
  {
   "cell_type": "code",
   "execution_count": 21,
   "metadata": {},
   "outputs": [
    {
     "name": "stdout",
     "output_type": "stream",
     "text": [
      "explanation why the edits made under my username hardcore metallica fan were reverted? they were not vandalisms just closure on some gas after i voted at new york dolls fac and please do not remove the template from the talk page since i am retired now \n",
      "(159571, 60000)\n",
      "(153164, 60000)\n"
     ]
    }
   ],
   "source": [
    "sample = train_text[0:1]\n",
    "print(train_text[0])\n",
    "print(train_feature.shape)\n",
    "print(test_feature.shape)"
   ]
  },
  {
   "cell_type": "code",
   "execution_count": 22,
   "metadata": {},
   "outputs": [
    {
     "data": {
      "text/plain": [
       "(1, 30000)"
      ]
     },
     "execution_count": 22,
     "metadata": {},
     "output_type": "execute_result"
    }
   ],
   "source": [
    "sample_feature = word_vectorizer.transform(sample)\n",
    "word_array = sample_feature.toarray()\n",
    "word_array.shape"
   ]
  },
  {
   "cell_type": "markdown",
   "metadata": {},
   "source": [
    "#### Fasttext method"
   ]
  },
  {
   "cell_type": "code",
   "execution_count": 6,
   "metadata": {},
   "outputs": [],
   "source": [
    "embed_size = 300 # how big is each word vector\n",
    "max_features = 30000 # how many unique words to use (i.e num rows in embedding vector)\n",
    "maxlen = 600 # max number of words in a comment to use"
   ]
  },
  {
   "cell_type": "code",
   "execution_count": 7,
   "metadata": {},
   "outputs": [],
   "source": [
    "#glove_path_50d = open(\"F:\\word2vec\\glove\\glove.6B.50d.txt\", encoding = 'UTF-8')\n",
    "#glove_path_25d = open(\"F:\\word2vec\\glove\\glove.twitter.27B.25d.txt\", encoding = 'UTF-8')\n",
    "#glove_lines_50d = [line for line in glove_path_50d]\n",
    "#glove_lines_25d = [line for line in glove_path_25d]\n",
    "fasttext = open('F:/fasttext/crawl-300d-2M-subword.vec', encoding = 'UTF-8')\n",
    "fasttext_lines = [line for line in fasttext]"
   ]
  },
  {
   "cell_type": "code",
   "execution_count": 8,
   "metadata": {},
   "outputs": [
    {
     "name": "stdout",
     "output_type": "stream",
     "text": [
      "crap removed\n",
      "only alphabets\n"
     ]
    }
   ],
   "source": [
    "repl = {\n",
    "    \"&lt;3\": \" good \",\n",
    "    \":d\": \" good \",\n",
    "    \":dd\": \" good \",\n",
    "    \":p\": \" good \",\n",
    "    \"8)\": \" good \",\n",
    "    \":-)\": \" good \",\n",
    "    \":)\": \" good \",\n",
    "    \";)\": \" good \",\n",
    "    \"(-:\": \" good \",\n",
    "    \"(:\": \" good \",\n",
    "    \"yay!\": \" good \",\n",
    "    \"yay\": \" good \",\n",
    "    \"yaay\": \" good \",\n",
    "    \"yaaay\": \" good \",\n",
    "    \"yaaaay\": \" good \",\n",
    "    \"yaaaaay\": \" good \",\n",
    "    \":/\": \" bad \",\n",
    "    \":&gt;\": \" sad \",\n",
    "    \":')\": \" sad \",\n",
    "    \":-(\": \" bad \",\n",
    "    \":(\": \" bad \",\n",
    "    \":s\": \" bad \",\n",
    "    \":-s\": \" bad \",\n",
    "    \"&lt;3\": \" heart \",\n",
    "    \":d\": \" smile \",\n",
    "    \":p\": \" smile \",\n",
    "    \":dd\": \" smile \",\n",
    "    \"8)\": \" smile \",\n",
    "    \":-)\": \" smile \",\n",
    "    \":)\": \" smile \",\n",
    "    \";)\": \" smile \",\n",
    "    \"(-:\": \" smile \",\n",
    "    \"(:\": \" smile \",\n",
    "    \":/\": \" worry \",\n",
    "    \":&gt;\": \" angry \",\n",
    "    \":')\": \" sad \",\n",
    "    \":-(\": \" sad \",\n",
    "    \":(\": \" sad \",\n",
    "    \":s\": \" sad \",\n",
    "    \":-s\": \" sad \",\n",
    "    r\"\\br\\b\": \"are\",\n",
    "    r\"\\bu\\b\": \"you\",\n",
    "    r\"\\bhaha\\b\": \"ha\",\n",
    "    r\"\\bhahaha\\b\": \"ha\",\n",
    "    r\"\\bdon't\\b\": \"do not\",\n",
    "    r\"\\bdoesn't\\b\": \"does not\",\n",
    "    r\"\\bdidn't\\b\": \"did not\",\n",
    "    r\"\\bhasn't\\b\": \"has not\",\n",
    "    r\"\\bhaven't\\b\": \"have not\",\n",
    "    r\"\\bhadn't\\b\": \"had not\",\n",
    "    r\"\\bwon't\\b\": \"will not\",\n",
    "    r\"\\bwouldn't\\b\": \"would not\",\n",
    "    r\"\\bcan't\\b\": \"can not\",\n",
    "    r\"\\bcannot\\b\": \"can not\",\n",
    "    r\"\\bi'm\\b\": \"i am\",\n",
    "    \"m\": \"am\",\n",
    "    \"r\": \"are\",\n",
    "    \"u\": \"you\",\n",
    "    \"haha\": \"ha\",\n",
    "    \"hahaha\": \"ha\",\n",
    "    \"don't\": \"do not\",\n",
    "    \"doesn't\": \"does not\",\n",
    "    \"didn't\": \"did not\",\n",
    "    \"hasn't\": \"has not\",\n",
    "    \"haven't\": \"have not\",\n",
    "    \"hadn't\": \"had not\",\n",
    "    \"won't\": \"will not\",\n",
    "    \"wouldn't\": \"would not\",\n",
    "    \"can't\": \"can not\",\n",
    "    \"cannot\": \"can not\",\n",
    "    \"i'm\": \"i am\",\n",
    "    \"m\": \"am\",\n",
    "    \"i'll\" : \"i will\",\n",
    "    \"its\" : \"it is\",\n",
    "    \"it's\" : \"it is\",\n",
    "    \"'s\" : \" is\",\n",
    "    \"that's\" : \"that is\",\n",
    "    \"weren't\" : \"were not\",\n",
    "}\n",
    "\n",
    "keys = [i for i in repl.keys()]\n",
    "\n",
    "new_train_data = []\n",
    "new_test_data = []\n",
    "ltr = train[\"comment_text\"].tolist()\n",
    "lte = test[\"comment_text\"].tolist()\n",
    "for i in ltr:\n",
    "    arr = str(i).split()\n",
    "    xx = \"\"\n",
    "    for j in arr:\n",
    "        j = str(j).lower()\n",
    "        if j[:4] == 'http' or j[:3] == 'www':\n",
    "            continue\n",
    "        if j in keys:\n",
    "            # print(\"inn\")\n",
    "            j = repl[j]\n",
    "        xx += j + \" \"\n",
    "    new_train_data.append(xx)\n",
    "for i in lte:\n",
    "    arr = str(i).split()\n",
    "    xx = \"\"\n",
    "    for j in arr:\n",
    "        j = str(j).lower()\n",
    "        if j[:4] == 'http' or j[:3] == 'www':\n",
    "            continue\n",
    "        if j in keys:\n",
    "            # print(\"inn\")\n",
    "            j = repl[j]\n",
    "        xx += j + \" \"\n",
    "    new_test_data.append(xx)\n",
    "train[\"new_comment_text\"] = new_train_data\n",
    "test[\"new_comment_text\"] = new_test_data\n",
    "print(\"crap removed\")\n",
    "trate = train[\"new_comment_text\"].tolist()\n",
    "tete = test[\"new_comment_text\"].tolist()\n",
    "for i, c in enumerate(trate):\n",
    "    trate[i] = re.sub('[^a-zA-Z ?!]+', '', str(trate[i]).lower())\n",
    "for i, c in enumerate(tete):\n",
    "    tete[i] = re.sub('[^a-zA-Z ?!]+', '', tete[i])\n",
    "train[\"comment_text\"] = trate\n",
    "test[\"comment_text\"] = tete\n",
    "print('only alphabets')\n"
   ]
  },
  {
   "cell_type": "code",
   "execution_count": 9,
   "metadata": {},
   "outputs": [],
   "source": [
    "def special_char(df, column, df_p):\n",
    "    df_p[column] = df[column].str.replace(r\"http\\S+\", \"\")\n",
    "    df_p[column] = df[column].str.replace(r\"http\", \"\")\n",
    "    df_p[column] = df[column].str.replace(r\"@\\S+\", \"\")\n",
    "    df_p[column] = df[column].str.replace(r\"[^A-Za-z0-9(),!?@\\'\\`\\\"\\_\\n]\", \" \")\n",
    "    df_p[column] = df[column].str.replace(r\"@\", \"at\")\n",
    "    df_p[column] = df[column].str.lower()\n",
    "    return df_p\n",
    "\n",
    "tokenizer = nltk.RegexpTokenizer(r'\\w+')\n",
    "stopwords = set(nltk.corpus.stopwords.words('english'))"
   ]
  },
  {
   "cell_type": "code",
   "execution_count": 10,
   "metadata": {},
   "outputs": [],
   "source": [
    "def get_array(lines):\n",
    "    key = lines[0]\n",
    "    value = np.asarray(lines.split()[1:], dtype = 'float32')\n",
    "    return key, value"
   ]
  },
  {
   "cell_type": "code",
   "execution_count": 11,
   "metadata": {},
   "outputs": [
    {
     "name": "stderr",
     "output_type": "stream",
     "text": [
      "C:\\Users\\f2002\\Anaconda3\\lib\\site-packages\\ipykernel_launcher.py:44: FutureWarning: arrays to stack must be passed as a \"sequence\" type such as list or tuple. Support for non-sequence iterables such as generators is deprecated as of NumPy 1.16 and will raise an error in the future.\n"
     ]
    },
    {
     "name": "stdout",
     "output_type": "stream",
     "text": [
      "The shape of train features is (159571, 600)\n",
      "The shape of test features is (153164, 600)\n",
      "Fasttext method used 155.72545623779297 sceconds\n"
     ]
    }
   ],
   "source": [
    "gl_start = time.time()\n",
    "\n",
    "'''\n",
    "st = nltk.stem.SnowballStemmer('english')\n",
    "train_clearn = pd.DataFrame()\n",
    "train_clearn = special_char(train, 'comment_text', train_clearn)\n",
    "train_clearn['comment_text'] = train_clearn['comment_text'].astype('str')\n",
    "train_clearn['comment_text'] = train_clearn['comment_text'].apply(tokenizer.tokenize)\n",
    "train_clearn['comment_text'] = train_clearn['comment_text'].apply(lambda vec: [word for word in vec if word not in stopwords]) \n",
    "train_clearn['comment_text'] = train_clearn['comment_text'].apply(lambda vec: [st.stem(word) for word in vec])\n",
    "test_clearn = pd.DataFrame()\n",
    "test_clearn = special_char(test, 'comment_text', test_clearn)\n",
    "test_clearn['comment_text'] = test_clearn['comment_text'].astype('str')\n",
    "test_clearn['comment_text'] = test_clearn['comment_text'].apply(tokenizer.tokenize)\n",
    "test_clearn['comment_text'] = test_clearn['comment_text'].apply(lambda vec: [word for word in vec if word not in stopwords])\n",
    "test_clearn['comment_test'] = test_clearn['comment_text'].apply(lambda vec: [st.stem(word) for word in vec])\n",
    "\n",
    "train_words = [word for tokens in train_clearn['comment_text'] for word in tokens]\n",
    "train_sequence_length = [len(sequence) for sequence in train_clearn['comment_text']]\n",
    "num_train_words = len(set(train_words))\n",
    "\n",
    "test_words = [word for tokens in test_clearn['comment_text'] for word in tokens]\n",
    "test_sequence_length = [len(sequence) for sequence in test_clearn['comment_text']]\n",
    "num_test_words = len(set(test_words))\n",
    "'''\n",
    "\n",
    "list_sentences_train = train['comment_text'].fillna('NA').values\n",
    "list_sentences_test = test['comment_text'].fillna('NA').values\n",
    "\n",
    "#all_words = [list(list_sentences_train) + list(list_sentences_test)]\n",
    "\n",
    "tokenizer_kp = Tokenizer(num_words=max_features)\n",
    "tokenizer_kp.fit_on_texts(list(list_sentences_train) + list(list_sentences_test))\n",
    "list_tokenized_train = tokenizer_kp.texts_to_sequences(list_sentences_train)\n",
    "list_tokenized_test = tokenizer_kp.texts_to_sequences(list_sentences_test)\n",
    "X_train = pad_sequences(list_tokenized_train, maxlen = maxlen)\n",
    "X_test = pad_sequences(list_tokenized_test, maxlen = maxlen)\n",
    "\n",
    "word_dict = {}\n",
    "for line in fasttext_lines:\n",
    "    key, value = get_array(line)\n",
    "    word_dict[key] = value\n",
    "\n",
    "all_emd = np.stack(word_dict.values())\n",
    "mean_emd, std_emd = all_emd.mean(), all_emd.std()\n",
    "\n",
    "\n",
    "word_index = tokenizer_kp.word_index\n",
    "nb_words = min(max_features, len(word_index))\n",
    "embedding_matrix = np.random.normal(mean_emd, std_emd, (nb_words, embed_size))\n",
    "#embedding_matrix = np.zeros((nb_words, embed_size))\n",
    "for word, i in word_index.items():\n",
    "    if i >= max_features: continue\n",
    "    embedding_vector = word_dict.get(word)\n",
    "    if embedding_vector is not None: embedding_matrix[i] = embedding_vector\n",
    "        \n",
    "gl_end = time.time()\n",
    "gl_time = gl_end - gl_start\n",
    "print('The shape of train features is {}'.format(X_train.shape))\n",
    "print('The shape of test features is {}'.format(X_test.shape))\n",
    "print(\"Fasttext method used {} sceconds\".format(gl_time))"
   ]
  },
  {
   "cell_type": "code",
   "execution_count": 9,
   "metadata": {
    "scrolled": true
   },
   "outputs": [
    {
     "data": {
      "text/plain": [
       "(159571, 300)"
      ]
     },
     "execution_count": 9,
     "metadata": {},
     "output_type": "execute_result"
    }
   ],
   "source": [
    "X_train.shape"
   ]
  },
  {
   "cell_type": "markdown",
   "metadata": {},
   "source": [
    "### Implementation"
   ]
  },
  {
   "cell_type": "markdown",
   "metadata": {},
   "source": [
    "#### RL"
   ]
  },
  {
   "cell_type": "code",
   "execution_count": 12,
   "metadata": {},
   "outputs": [],
   "source": [
    "classes = []\n",
    "scores = []\n",
    "for col in train_target:\n",
    "    classes.append(col)\n",
    "result = np.zeros((len(test), len(classes)))\n",
    "sub_id = pd.DataFrame({'id': test['id']})"
   ]
  },
  {
   "cell_type": "code",
   "execution_count": 75,
   "metadata": {},
   "outputs": [
    {
     "name": "stdout",
     "output_type": "stream",
     "text": [
      "0\n",
      "1\n",
      "2\n",
      "3\n",
      "4\n",
      "5\n"
     ]
    }
   ],
   "source": [
    "for col in classes:\n",
    "    print(classes.index(col))"
   ]
  },
  {
   "cell_type": "code",
   "execution_count": 13,
   "metadata": {},
   "outputs": [
    {
     "name": "stdout",
     "output_type": "stream",
     "text": [
      "CV score for class toxic is 0.9790445977929293\n",
      "CV score for class severe_toxic is 0.988638787302205\n",
      "CV score for class obscene is 0.9903770335907931\n",
      "CV score for class threat is 0.9894627831342815\n",
      "CV score for class insult is 0.9831760654886482\n",
      "CV score for class identity_hate is 0.9834212393149737\n",
      "Total CV score is 0.9856867511039719\n",
      "logisticregression method used 691.4222865104675 seconds\n"
     ]
    }
   ],
   "source": [
    "lr_start = time.time()\n",
    "for class_name in classes:\n",
    "    target = train_target[class_name]\n",
    "    classifier = LogisticRegression()\n",
    "    #x_nv = get_nv(train_feature, target)\n",
    "    cv_score = np.mean(cross_val_score(classifier, train_feature, target, cv=5, scoring='roc_auc'))\n",
    "    scores.append(cv_score)\n",
    "    print('CV score for class {} is {}'.format(class_name, cv_score))\n",
    "   \n",
    "    classifier.fit(train_feature, target)\n",
    "    #predictions = classifier.predict(X_val)\n",
    "    #score = roc_auc_score(predictions, y_val[class_name])\n",
    "    #scores.append(score)\n",
    "    #print('The auc score for class {} is {}'.format(class_name, score))    \n",
    "    result[:, classes.index(class_name)] = classifier.predict_proba(test_feature)[:, 1]\n",
    "lr_end = time.time()\n",
    "lr_time = lr_end - lr_start\n",
    "print('Total CV score is {}'.format(np.mean(scores)))\n",
    "print('logisticregression method used {} seconds'.format(lr_time))\n"
   ]
  },
  {
   "cell_type": "code",
   "execution_count": 61,
   "metadata": {},
   "outputs": [
    {
     "data": {
      "text/html": [
       "<div>\n",
       "<style scoped>\n",
       "    .dataframe tbody tr th:only-of-type {\n",
       "        vertical-align: middle;\n",
       "    }\n",
       "\n",
       "    .dataframe tbody tr th {\n",
       "        vertical-align: top;\n",
       "    }\n",
       "\n",
       "    .dataframe thead th {\n",
       "        text-align: right;\n",
       "    }\n",
       "</style>\n",
       "<table border=\"1\" class=\"dataframe\">\n",
       "  <thead>\n",
       "    <tr style=\"text-align: right;\">\n",
       "      <th></th>\n",
       "      <th>id</th>\n",
       "    </tr>\n",
       "  </thead>\n",
       "  <tbody>\n",
       "    <tr>\n",
       "      <th>0</th>\n",
       "      <td>00001cee341fdb12</td>\n",
       "    </tr>\n",
       "  </tbody>\n",
       "</table>\n",
       "</div>"
      ],
      "text/plain": [
       "                 id\n",
       "0  00001cee341fdb12"
      ]
     },
     "execution_count": 61,
     "metadata": {},
     "output_type": "execute_result"
    }
   ],
   "source": [
    "result[:1]"
   ]
  },
  {
   "cell_type": "code",
   "execution_count": 14,
   "metadata": {},
   "outputs": [],
   "source": [
    "submission_lr = pd.concat([sub_id, pd.DataFrame(result, columns = classes)], axis=1)\n",
    "submission_lr.to_csv('submission_lr.csv', index=False)"
   ]
  },
  {
   "cell_type": "code",
   "execution_count": null,
   "metadata": {},
   "outputs": [],
   "source": [
    "plt.bar(classes, result.loc[0].drop('id'))\n",
    "plt.xlabel('classes')\n",
    "plt.ylabel('probability')"
   ]
  },
  {
   "cell_type": "markdown",
   "metadata": {},
   "source": [
    "#### LSTM"
   ]
  },
  {
   "cell_type": "code",
   "execution_count": 15,
   "metadata": {},
   "outputs": [
    {
     "name": "stderr",
     "output_type": "stream",
     "text": [
      "C:\\Users\\f2002\\Anaconda3\\lib\\site-packages\\sklearn\\model_selection\\_split.py:2026: FutureWarning: From version 0.21, test_size will always complement train_size unless both are specified.\n",
      "  FutureWarning)\n"
     ]
    }
   ],
   "source": [
    "from keras import backend as K\n",
    "from keras.engine.topology import Layer\n",
    "from keras import initializers, regularizers, constraints, optimizers, layers\n",
    "\n",
    "class Attention(Layer):\n",
    "    def __init__(self, step_dim,\n",
    "                 W_regularizer=None, b_regularizer=None,\n",
    "                 W_constraint=None, b_constraint=None,\n",
    "                 bias=True, **kwargs):\n",
    "        self.supports_masking = True\n",
    "        self.init = initializers.get('glorot_uniform')\n",
    "\n",
    "        self.W_regularizer = regularizers.get(W_regularizer)\n",
    "        self.b_regularizer = regularizers.get(b_regularizer)\n",
    "\n",
    "        self.W_constraint = constraints.get(W_constraint)\n",
    "        self.b_constraint = constraints.get(b_constraint)\n",
    "\n",
    "        self.bias = bias\n",
    "        self.step_dim = step_dim\n",
    "        self.features_dim = 0\n",
    "        super(Attention, self).__init__(**kwargs)\n",
    "\n",
    "    def build(self, input_shape):\n",
    "        assert len(input_shape) == 3\n",
    "\n",
    "        self.W = self.add_weight((input_shape[-1],),\n",
    "                                 initializer=self.init,\n",
    "                                 name='{}_W'.format(self.name),\n",
    "                                 regularizer=self.W_regularizer,\n",
    "                                 constraint=self.W_constraint)\n",
    "        self.features_dim = input_shape[-1]\n",
    "\n",
    "        if self.bias:\n",
    "            self.b = self.add_weight((input_shape[1],),\n",
    "                                     initializer='zero',\n",
    "                                     name='{}_b'.format(self.name),\n",
    "                                     regularizer=self.b_regularizer,\n",
    "                                     constraint=self.b_constraint)\n",
    "        else:\n",
    "            self.b = None\n",
    "\n",
    "        self.built = True\n",
    "\n",
    "    def compute_mask(self, input, input_mask=None):\n",
    "        return None\n",
    "\n",
    "    def call(self, x, mask=None):\n",
    "        features_dim = self.features_dim\n",
    "        step_dim = self.step_dim\n",
    "\n",
    "        eij = K.reshape(K.dot(K.reshape(x, (-1, features_dim)),\n",
    "                        K.reshape(self.W, (features_dim, 1))), (-1, step_dim))\n",
    "\n",
    "        if self.bias:\n",
    "            eij += self.b\n",
    "\n",
    "        eij = K.tanh(eij)\n",
    "\n",
    "        a = K.exp(eij)\n",
    "\n",
    "        if mask is not None:\n",
    "            a *= K.cast(mask, K.floatx())\n",
    "\n",
    "        a /= K.cast(K.sum(a, axis=1, keepdims=True) + K.epsilon(), K.floatx())\n",
    "\n",
    "        a = K.expand_dims(a)\n",
    "        weighted_input = x * a\n",
    "        return K.sum(weighted_input, axis=1)\n",
    "\n",
    "    def compute_output_shape(self, input_shape):\n",
    "        return input_shape[0],  self.features_dim\n",
    "class RocAucEvaluation(Callback):\n",
    "    def __init__(self, validation_data=(), interval=1):\n",
    "        super(Callback, self).__init__()\n",
    "\n",
    "        self.interval = interval\n",
    "        self.X_val, self.y_val = validation_data\n",
    "\n",
    "    def on_epoch_end(self, epoch, logs={}):\n",
    "        if epoch % self.interval == 0:\n",
    "            y_pred = self.model.predict(self.X_val, verbose=0)\n",
    "            score = roc_auc_score(self.y_val, y_pred)\n",
    "            print(\"\\n ROC-AUC - epoch: {:d} - score: {:.6f}\".format(epoch + 1, score))\n",
    "def schedule(ind):\n",
    "    a = [0.01, 0.005, 0.003, 0.002, 0.001, 0.0005, 0.0004, 0.0003, 0.0002, 0.0001]\n",
    "    return a[ind]\n",
    "lr = callbacks.LearningRateScheduler(schedule)\n",
    "[X_tr, X_val, y_tr, y_val] = train_test_split(X_train, train_target, train_size=0.9, random_state = 42)\n",
    "\n",
    "ra_val = RocAucEvaluation(validation_data=(X_val, y_val), interval=1)"
   ]
  },
  {
   "cell_type": "code",
   "execution_count": 16,
   "metadata": {},
   "outputs": [],
   "source": [
    "inp = Input(shape=(maxlen,))\n",
    "x = Embedding(max_features, embed_size, weights=[embedding_matrix], trainable=True)(inp)\n",
    "x = SpatialDropout1D(0.6)(x)\n",
    "#x = BatchNormalization()(x)\n",
    "x = Bidirectional(CuDNNLSTM(80, return_sequences=True))(x)\n",
    "#x = SpatialDropout1D(0.6)(x)\n",
    "#x = BidirectionalCuDNN(LSTM(80, return_sequences=True))(x)\n",
    "x = Conv1D(60, kernel_size=3, padding=\"valid\", kernel_initializer=\"glorot_uniform\")(x)\n",
    "gm = GlobalMaxPooling1D()(x)\n",
    "ga = GlobalAveragePooling1D()(x)\n",
    "co = concatenate([gm, ga])\n",
    "\n",
    "#x = Dense(128, activation='relu')(co)\n",
    "#x = Dropout(0.2)(x)\n",
    "x = Dense(6, activation=\"sigmoid\")(gm)\n",
    "model_l = Model(inputs=inp, outputs=x)\n",
    "  \n",
    "model_l.compile(loss='binary_crossentropy', optimizer=Adam(lr=1e-3), metrics=['accuracy'])"
   ]
  },
  {
   "cell_type": "code",
   "execution_count": 17,
   "metadata": {
    "scrolled": true
   },
   "outputs": [
    {
     "name": "stdout",
     "output_type": "stream",
     "text": [
      "Train on 143613 samples, validate on 15958 samples\n",
      "Epoch 1/10\n",
      "143613/143613 [==============================] - 302s 2ms/step - loss: 0.0600 - acc: 0.9791 - val_loss: 0.0459 - val_acc: 0.9833\n",
      "\n",
      " ROC-AUC - epoch: 1 - score: 0.982400\n",
      "Epoch 2/10\n",
      "143613/143613 [==============================] - 299s 2ms/step - loss: 0.0433 - acc: 0.9837 - val_loss: 0.0445 - val_acc: 0.9835\n",
      "\n",
      " ROC-AUC - epoch: 2 - score: 0.985924\n",
      "Epoch 3/10\n",
      "143613/143613 [==============================] - 296s 2ms/step - loss: 0.0387 - acc: 0.9851 - val_loss: 0.0416 - val_acc: 0.9845\n",
      "\n",
      " ROC-AUC - epoch: 3 - score: 0.987358\n",
      "Epoch 4/10\n",
      "143613/143613 [==============================] - 302s 2ms/step - loss: 0.0355 - acc: 0.9863 - val_loss: 0.0426 - val_acc: 0.9841\n",
      "\n",
      " ROC-AUC - epoch: 4 - score: 0.987899\n",
      "Epoch 5/10\n",
      "143613/143613 [==============================] - 301s 2ms/step - loss: 0.0330 - acc: 0.9872 - val_loss: 0.0458 - val_acc: 0.9835\n",
      "\n",
      " ROC-AUC - epoch: 5 - score: 0.987127\n",
      "LSTM method used 1550.3963170051575 seconds\n"
     ]
    }
   ],
   "source": [
    "ls_start = time.time()\n",
    "history_l = model_l.fit(X_tr, y_tr, validation_data=(X_val, y_val), \n",
    "                        batch_size=32, epochs = 10, \n",
    "                        callbacks=[ra_val, EarlyStopping(monitor='val_loss', mode='auto', patience=2)])\n",
    "ls_end = time.time()\n",
    "ls_time = ls_end - ls_start\n",
    "print('LSTM method used {} seconds'.format(ls_time))\n"
   ]
  },
  {
   "cell_type": "code",
   "execution_count": 18,
   "metadata": {
    "scrolled": true
   },
   "outputs": [
    {
     "data": {
      "image/png": "[encoded data removed]",
      "text/plain": [
       "<Figure size 432x288 with 1 Axes>"
      ]
     },
     "metadata": {},
     "output_type": "display_data"
    }
   ],
   "source": [
    "plt.plot(history_l.history['loss'], color = 'blue', marker = 'o', label = 'train')\n",
    "plt.plot(history_l.history['val_loss'], color = 'red', marker = 'x', label = 'validation')\n",
    "plt.title('LSTM')\n",
    "plt.grid()\n",
    "plt.xlabel('epoch')\n",
    "plt.ylabel('acc')\n",
    "plt.legend(loc = 'upper right')\n",
    "plt.ylim([0, 0.2])\n",
    "plt.show()\n"
   ]
  },
  {
   "cell_type": "code",
   "execution_count": 19,
   "metadata": {},
   "outputs": [
    {
     "name": "stdout",
     "output_type": "stream",
     "text": [
      "153164/153164 [==============================] - 103s 670us/step\n"
     ]
    }
   ],
   "source": [
    "prediction_lstm = model_l.predict(X_test, verbose = 1)"
   ]
  },
  {
   "cell_type": "code",
   "execution_count": 20,
   "metadata": {},
   "outputs": [],
   "source": [
    "submission_lstm = pd.concat([sub_id, pd.DataFrame(prediction_lstm, columns = classes)], axis = 1)\n",
    "submission_lstm.to_csv('submission_lstm.csv', index = False)"
   ]
  },
  {
   "cell_type": "markdown",
   "metadata": {},
   "source": [
    "#### GRU"
   ]
  },
  {
   "cell_type": "code",
   "execution_count": 28,
   "metadata": {},
   "outputs": [],
   "source": [
    "inp = Input(shape=(maxlen, ))\n",
    "g = Embedding(max_features, embed_size, weights=[embedding_matrix], trainable=True)(inp)\n",
    "g = SpatialDropout1D(0.6)(g)\n",
    "#g = BatchNormalization()(g)\n",
    "g = Bidirectional(CuDNNGRU(100, return_sequences=True))(g)\n",
    "#g = MaxPooling1D()(g)\n",
    "#g = SpatialDropout1D(0.4)(g)\n",
    "g = Bidirectional(CuDNNGRU(100, return_sequences=True))(g)\n",
    "#g = SpatialDropout1D(0.4)(g)\n",
    "#x = Conv1D(64, kernel_size = 3, padding = \"valid\", kernel_initializer = \"glorot_uniform\")(g)\n",
    "avg_pool = GlobalAveragePooling1D()(g)\n",
    "max_pool = GlobalMaxPooling1D()(g)\n",
    "at = Attention(maxlen)(g)\n",
    "conc = concatenate([avg_pool, max_pool])\n",
    "\n",
    "#g = Dense(80, activation = 'relu')(max_pool)\n",
    "#g = Dropout(0.1)(g)\n",
    "#g = Dense(512, activation = 'relu')(g)\n",
    "#g = Dropout(0.2)(g)\n",
    "g = Dense(6, activation=\"sigmoid\")(max_pool)\n",
    "    \n",
    "model_g = Model(inputs=inp, outputs=g)\n",
    "model_g.compile(loss='binary_crossentropy',\n",
    "                  optimizer=Adam(lr=1e-3),\n",
    "                  metrics=['accuracy'])"
   ]
  },
  {
   "cell_type": "code",
   "execution_count": 29,
   "metadata": {},
   "outputs": [
    {
     "name": "stdout",
     "output_type": "stream",
     "text": [
      "Train on 143613 samples, validate on 15958 samples\n",
      "Epoch 1/4\n",
      "143613/143613 [==============================] - 490s 3ms/step - loss: 0.0592 - acc: 0.9796 - val_loss: 0.0439 - val_acc: 0.9835\n",
      "\n",
      " ROC-AUC - epoch: 1 - score: 0.982517\n",
      "Epoch 2/4\n",
      "143613/143613 [==============================] - 487s 3ms/step - loss: 0.0434 - acc: 0.9836 - val_loss: 0.0426 - val_acc: 0.9835\n",
      "\n",
      " ROC-AUC - epoch: 2 - score: 0.985777\n",
      "Epoch 3/4\n",
      "143613/143613 [==============================] - 492s 3ms/step - loss: 0.0394 - acc: 0.9847 - val_loss: 0.0439 - val_acc: 0.9833\n",
      "\n",
      " ROC-AUC - epoch: 3 - score: 0.986875\n",
      "GRU method used 1525.6463227272034 seconds\n"
     ]
    }
   ],
   "source": [
    "g_start = time.time()\n",
    "history_g = model_g.fit(X_tr, y_tr, validation_data = (X_val, y_val), \n",
    "                        batch_size=32, epochs=4, \n",
    "                        callbacks=[ra_val, EarlyStopping(monitor='val_loss', mode='auto', patience=1)])\n",
    "g_end = time.time()\n",
    "g_time = g_end - g_start\n",
    "print('GRU method used {} seconds'.format(g_time))\n"
   ]
  },
  {
   "cell_type": "code",
   "execution_count": 30,
   "metadata": {},
   "outputs": [
    {
     "data": {
      "image/png": "[encoded data removed]",
      "text/plain": [
       "<Figure size 432x288 with 1 Axes>"
      ]
     },
     "metadata": {},
     "output_type": "display_data"
    }
   ],
   "source": [
    "plt.plot(history_g.history['loss'], color = 'blue', marker = 'o', label = 'train')\n",
    "plt.plot(history_g.history['val_loss'], color = 'red', marker = 'x', label = 'validation')\n",
    "plt.grid()\n",
    "plt.title('GRU')\n",
    "plt.xlabel('epoch')\n",
    "plt.ylabel('val_loss')\n",
    "plt.legend(loc = 'upper right')\n",
    "plt.ylim([0, 0.1])\n",
    "plt.show()"
   ]
  },
  {
   "cell_type": "code",
   "execution_count": 24,
   "metadata": {},
   "outputs": [
    {
     "name": "stdout",
     "output_type": "stream",
     "text": [
      "153164/153164 [==============================] - 191s 1ms/step\n"
     ]
    }
   ],
   "source": [
    "prediction_gru = model_g.predict(X_test, batch_size=32, verbose=1)"
   ]
  },
  {
   "cell_type": "code",
   "execution_count": 32,
   "metadata": {},
   "outputs": [],
   "source": [
    "submission_gru = pd.concat([sub_id, pd.DataFrame(prediction_gru, columns = classes)], axis = 1)\n",
    "submission_gru.to_csv('submission_gru.csv', index=False)"
   ]
  },
  {
   "cell_type": "code",
   "execution_count": 29,
   "metadata": {},
   "outputs": [
    {
     "data": {
      "text/html": [
       "<div>\n",
       "<style scoped>\n",
       "    .dataframe tbody tr th:only-of-type {\n",
       "        vertical-align: middle;\n",
       "    }\n",
       "\n",
       "    .dataframe tbody tr th {\n",
       "        vertical-align: top;\n",
       "    }\n",
       "\n",
       "    .dataframe thead th {\n",
       "        text-align: right;\n",
       "    }\n",
       "</style>\n",
       "<table border=\"1\" class=\"dataframe\">\n",
       "  <thead>\n",
       "    <tr style=\"text-align: right;\">\n",
       "      <th></th>\n",
       "      <th>id</th>\n",
       "      <th>toxic</th>\n",
       "      <th>severe_toxic</th>\n",
       "      <th>obscene</th>\n",
       "      <th>threat</th>\n",
       "      <th>insult</th>\n",
       "      <th>identity_hate</th>\n",
       "    </tr>\n",
       "  </thead>\n",
       "  <tbody>\n",
       "    <tr>\n",
       "      <th>0</th>\n",
       "      <td>00001cee341fdb12</td>\n",
       "      <td>0.999147</td>\n",
       "      <td>3.087803e-01</td>\n",
       "      <td>0.962581</td>\n",
       "      <td>1.754768e-02</td>\n",
       "      <td>9.743233e-01</td>\n",
       "      <td>3.103907e-01</td>\n",
       "    </tr>\n",
       "    <tr>\n",
       "      <th>1</th>\n",
       "      <td>0000247867823ef7</td>\n",
       "      <td>0.000006</td>\n",
       "      <td>3.986464e-10</td>\n",
       "      <td>0.000002</td>\n",
       "      <td>1.176802e-09</td>\n",
       "      <td>1.539694e-07</td>\n",
       "      <td>1.331353e-07</td>\n",
       "    </tr>\n",
       "    <tr>\n",
       "      <th>2</th>\n",
       "      <td>00013b17ad220c46</td>\n",
       "      <td>0.003075</td>\n",
       "      <td>1.279916e-05</td>\n",
       "      <td>0.001629</td>\n",
       "      <td>1.864584e-05</td>\n",
       "      <td>3.729791e-04</td>\n",
       "      <td>1.801671e-04</td>\n",
       "    </tr>\n",
       "    <tr>\n",
       "      <th>3</th>\n",
       "      <td>00017563c3f7919a</td>\n",
       "      <td>0.000074</td>\n",
       "      <td>5.830867e-09</td>\n",
       "      <td>0.000006</td>\n",
       "      <td>4.505953e-08</td>\n",
       "      <td>2.272762e-06</td>\n",
       "      <td>9.919169e-07</td>\n",
       "    </tr>\n",
       "    <tr>\n",
       "      <th>4</th>\n",
       "      <td>00017695ad8997eb</td>\n",
       "      <td>0.000805</td>\n",
       "      <td>3.194636e-07</td>\n",
       "      <td>0.000170</td>\n",
       "      <td>1.039108e-06</td>\n",
       "      <td>4.869772e-05</td>\n",
       "      <td>1.939688e-05</td>\n",
       "    </tr>\n",
       "  </tbody>\n",
       "</table>\n",
       "</div>"
      ],
      "text/plain": [
       "                 id     toxic  severe_toxic   obscene        threat  \\\n",
       "0  00001cee341fdb12  0.999147  3.087803e-01  0.962581  1.754768e-02   \n",
       "1  0000247867823ef7  0.000006  3.986464e-10  0.000002  1.176802e-09   \n",
       "2  00013b17ad220c46  0.003075  1.279916e-05  0.001629  1.864584e-05   \n",
       "3  00017563c3f7919a  0.000074  5.830867e-09  0.000006  4.505953e-08   \n",
       "4  00017695ad8997eb  0.000805  3.194636e-07  0.000170  1.039108e-06   \n",
       "\n",
       "         insult  identity_hate  \n",
       "0  9.743233e-01   3.103907e-01  \n",
       "1  1.539694e-07   1.331353e-07  \n",
       "2  3.729791e-04   1.801671e-04  \n",
       "3  2.272762e-06   9.919169e-07  \n",
       "4  4.869772e-05   1.939688e-05  "
      ]
     },
     "execution_count": 29,
     "metadata": {},
     "output_type": "execute_result"
    }
   ],
   "source": [
    "submission_gru.head()"
   ]
  },
  {
   "cell_type": "markdown",
   "metadata": {},
   "source": [
    "### Try model blend"
   ]
  },
  {
   "cell_type": "code",
   "execution_count": 36,
   "metadata": {},
   "outputs": [
    {
     "name": "stdout",
     "output_type": "stream",
     "text": [
      "toxic\n",
      "[[1.         0.85754572 0.86471153]\n",
      " [0.85754572 1.         0.93993437]\n",
      " [0.86471153 0.93993437 1.        ]]\n",
      "severe_toxic\n",
      "[[1.         0.75775809 0.75380989]\n",
      " [0.75775809 1.         0.92042625]\n",
      " [0.75380989 0.92042625 1.        ]]\n",
      "obscene\n",
      "[[1.         0.80556278 0.81452291]\n",
      " [0.80556278 1.         0.94970133]\n",
      " [0.81452291 0.94970133 1.        ]]\n",
      "threat\n",
      "[[1.         0.69949822 0.71501855]\n",
      " [0.69949822 1.         0.87821085]\n",
      " [0.71501855 0.87821085 1.        ]]\n",
      "insult\n",
      "[[1.         0.81789147 0.82520985]\n",
      " [0.81789147 1.         0.93883959]\n",
      " [0.82520985 0.93883959 1.        ]]\n",
      "identity_hate\n",
      "[[1.         0.75433973 0.76432529]\n",
      " [0.75433973 1.         0.91166277]\n",
      " [0.76432529 0.91166277 1.        ]]\n"
     ]
    }
   ],
   "source": [
    "for col in classes:\n",
    "    print(col)\n",
    "    print(np.corrcoef([submission_lr[col].rank(pct=True), submission_gru[col].rank(pct=True), submission_lstm[col].rank(pct=True)]))\n",
    "\n",
    "submission_bl = pd.DataFrame()\n",
    "submission_bl['id'] = sub_id\n",
    "for col in classes:\n",
    "    submission_bl[col] = submission_lr[col].rank(pct=True) * 0.33 + submission_gru[col].rank(pct=True) * 0.34 + submission_lstm[col].rank(pct=True) * 0.33\n",
    "\n",
    "submission_bl.to_csv('submission_bl.csv', index=False)"
   ]
  },
  {
   "cell_type": "code",
   "execution_count": null,
   "metadata": {},
   "outputs": [],
   "source": []
  }
 ],
 "metadata": {
  "kernelspec": {
   "display_name": "Python 3",
   "language": "python",
   "name": "python3"
  },
  "language_info": {
   "codemirror_mode": {
    "name": "ipython",
    "version": 3
   },
   "file_extension": ".py",
   "mimetype": "text/x-python",
   "name": "python",
   "nbconvert_exporter": "python",
   "pygments_lexer": "ipython3",
   "version": "3.6.4"
  }
 },
 "nbformat": 4,
 "nbformat_minor": 2
}
