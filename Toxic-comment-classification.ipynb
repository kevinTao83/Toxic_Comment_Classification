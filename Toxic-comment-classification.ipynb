{
 "cells": [
  {
   "cell_type": "markdown",
   "metadata": {},
   "source": [
    "## Import package"
   ]
  },
  {
   "cell_type": "code",
   "execution_count": 1,
   "metadata": {},
   "outputs": [
    {
     "name": "stderr",
     "output_type": "stream",
     "text": [
      "C:\\Users\\f2002\\Anaconda3\\lib\\site-packages\\sklearn\\cross_validation.py:41: DeprecationWarning: This module was deprecated in version 0.18 in favor of the model_selection module into which all the refactored classes and functions are moved. Also note that the interface of the new CV iterators are different from that of this module. This module will be removed in 0.20.\n",
      "  \"This module will be removed in 0.20.\", DeprecationWarning)\n",
      "C:\\Users\\f2002\\Anaconda3\\lib\\site-packages\\sklearn\\learning_curve.py:22: DeprecationWarning: This module was deprecated in version 0.18 in favor of the model_selection module into which all the functions are moved. This module will be removed in 0.20\n",
      "  DeprecationWarning)\n",
      "C:\\Users\\f2002\\Anaconda3\\lib\\site-packages\\h5py\\__init__.py:36: FutureWarning: Conversion of the second argument of issubdtype from `float` to `np.floating` is deprecated. In future, it will be treated as `np.float64 == np.dtype(float).type`.\n",
      "  from ._conv import register_converters as _register_converters\n",
      "Using TensorFlow backend.\n"
     ]
    }
   ],
   "source": [
    "import pandas as pd\n",
    "import numpy as np\n",
    "import matplotlib.pyplot as plt\n",
    "import seaborn as sb\n",
    "import nltk\n",
    "from sklearn.model_selection import train_test_split, cross_val_score\n",
    "from sklearn.learning_curve import learning_curve\n",
    "from sklearn.pipeline import Pipeline\n",
    "from sklearn.linear_model import LogisticRegression\n",
    "from keras.preprocessing.text import Tokenizer\n",
    "from keras.preprocessing.sequence import pad_sequences\n",
    "\n",
    "import logging\n",
    "from sklearn.metrics import roc_auc_score\n",
    "from keras.callbacks import Callback\n",
    "from keras.layers import Dense, Input, LSTM, GRU, Embedding, Dropout, Activation, BatchNormalization, Conv1D\n",
    "from keras.layers import Bidirectional, GlobalMaxPool1D, MaxPooling1D, GlobalMaxPooling1D\n",
    "from keras.models import Model, Sequential\n",
    "from keras import initializers, regularizers, constraints, optimizers, layers, callbacks\n",
    "import time\n",
    "\n",
    "%matplotlib inline"
   ]
  },
  {
   "cell_type": "markdown",
   "metadata": {},
   "source": [
    "## Get the data"
   ]
  },
  {
   "cell_type": "code",
   "execution_count": 2,
   "metadata": {},
   "outputs": [
    {
     "name": "stdout",
     "output_type": "stream",
     "text": [
      "The train's shape is (159571, 8)\n",
      "The test's shape is (153164, 2)\n"
     ]
    }
   ],
   "source": [
    "train = pd.read_csv('train.csv')\n",
    "test = pd.read_csv('test.csv')\n",
    "train_text = train['comment_text']\n",
    "test_text = test['comment_text']\n",
    "all_text = pd.concat((train_text, test_text))\n",
    "print('The train\\'s shape is {}'.format(train.shape))\n",
    "print('The test\\'s shape is {}'.format(test.shape))"
   ]
  },
  {
   "cell_type": "code",
   "execution_count": 3,
   "metadata": {},
   "outputs": [
    {
     "name": "stdout",
     "output_type": "stream",
     "text": [
      "The target's shape is (159571, 6)\n"
     ]
    }
   ],
   "source": [
    "train_target = train.drop(['id', 'comment_text'], axis = 1)\n",
    "print('The target\\'s shape is {}'.format(train_target.shape))"
   ]
  },
  {
   "cell_type": "markdown",
   "metadata": {},
   "source": [
    "## Display the target structure"
   ]
  },
  {
   "cell_type": "code",
   "execution_count": 4,
   "metadata": {},
   "outputs": [
    {
     "data": {
      "text/html": [
       "<div>\n",
       "<style scoped>\n",
       "    .dataframe tbody tr th:only-of-type {\n",
       "        vertical-align: middle;\n",
       "    }\n",
       "\n",
       "    .dataframe tbody tr th {\n",
       "        vertical-align: top;\n",
       "    }\n",
       "\n",
       "    .dataframe thead th {\n",
       "        text-align: right;\n",
       "    }\n",
       "</style>\n",
       "<table border=\"1\" class=\"dataframe\">\n",
       "  <thead>\n",
       "    <tr style=\"text-align: right;\">\n",
       "      <th></th>\n",
       "      <th>toxic</th>\n",
       "      <th>severe_toxic</th>\n",
       "      <th>obscene</th>\n",
       "      <th>threat</th>\n",
       "      <th>insult</th>\n",
       "      <th>identity_hate</th>\n",
       "    </tr>\n",
       "  </thead>\n",
       "  <tbody>\n",
       "    <tr>\n",
       "      <th>count</th>\n",
       "      <td>159571.000000</td>\n",
       "      <td>159571.000000</td>\n",
       "      <td>159571.000000</td>\n",
       "      <td>159571.000000</td>\n",
       "      <td>159571.000000</td>\n",
       "      <td>159571.000000</td>\n",
       "    </tr>\n",
       "    <tr>\n",
       "      <th>mean</th>\n",
       "      <td>0.095844</td>\n",
       "      <td>0.009996</td>\n",
       "      <td>0.052948</td>\n",
       "      <td>0.002996</td>\n",
       "      <td>0.049364</td>\n",
       "      <td>0.008805</td>\n",
       "    </tr>\n",
       "    <tr>\n",
       "      <th>std</th>\n",
       "      <td>0.294379</td>\n",
       "      <td>0.099477</td>\n",
       "      <td>0.223931</td>\n",
       "      <td>0.054650</td>\n",
       "      <td>0.216627</td>\n",
       "      <td>0.093420</td>\n",
       "    </tr>\n",
       "    <tr>\n",
       "      <th>min</th>\n",
       "      <td>0.000000</td>\n",
       "      <td>0.000000</td>\n",
       "      <td>0.000000</td>\n",
       "      <td>0.000000</td>\n",
       "      <td>0.000000</td>\n",
       "      <td>0.000000</td>\n",
       "    </tr>\n",
       "    <tr>\n",
       "      <th>25%</th>\n",
       "      <td>0.000000</td>\n",
       "      <td>0.000000</td>\n",
       "      <td>0.000000</td>\n",
       "      <td>0.000000</td>\n",
       "      <td>0.000000</td>\n",
       "      <td>0.000000</td>\n",
       "    </tr>\n",
       "    <tr>\n",
       "      <th>50%</th>\n",
       "      <td>0.000000</td>\n",
       "      <td>0.000000</td>\n",
       "      <td>0.000000</td>\n",
       "      <td>0.000000</td>\n",
       "      <td>0.000000</td>\n",
       "      <td>0.000000</td>\n",
       "    </tr>\n",
       "    <tr>\n",
       "      <th>75%</th>\n",
       "      <td>0.000000</td>\n",
       "      <td>0.000000</td>\n",
       "      <td>0.000000</td>\n",
       "      <td>0.000000</td>\n",
       "      <td>0.000000</td>\n",
       "      <td>0.000000</td>\n",
       "    </tr>\n",
       "    <tr>\n",
       "      <th>max</th>\n",
       "      <td>1.000000</td>\n",
       "      <td>1.000000</td>\n",
       "      <td>1.000000</td>\n",
       "      <td>1.000000</td>\n",
       "      <td>1.000000</td>\n",
       "      <td>1.000000</td>\n",
       "    </tr>\n",
       "  </tbody>\n",
       "</table>\n",
       "</div>"
      ],
      "text/plain": [
       "               toxic   severe_toxic        obscene         threat  \\\n",
       "count  159571.000000  159571.000000  159571.000000  159571.000000   \n",
       "mean        0.095844       0.009996       0.052948       0.002996   \n",
       "std         0.294379       0.099477       0.223931       0.054650   \n",
       "min         0.000000       0.000000       0.000000       0.000000   \n",
       "25%         0.000000       0.000000       0.000000       0.000000   \n",
       "50%         0.000000       0.000000       0.000000       0.000000   \n",
       "75%         0.000000       0.000000       0.000000       0.000000   \n",
       "max         1.000000       1.000000       1.000000       1.000000   \n",
       "\n",
       "              insult  identity_hate  \n",
       "count  159571.000000  159571.000000  \n",
       "mean        0.049364       0.008805  \n",
       "std         0.216627       0.093420  \n",
       "min         0.000000       0.000000  \n",
       "25%         0.000000       0.000000  \n",
       "50%         0.000000       0.000000  \n",
       "75%         0.000000       0.000000  \n",
       "max         1.000000       1.000000  "
      ]
     },
     "execution_count": 4,
     "metadata": {},
     "output_type": "execute_result"
    }
   ],
   "source": [
    "train_target.describe()"
   ]
  },
  {
   "cell_type": "code",
   "execution_count": 8,
   "metadata": {
    "scrolled": true
   },
   "outputs": [
    {
     "data": {
      "text/plain": [
       "Text(0.5,0,'num of labels')"
      ]
     },
     "execution_count": 8,
     "metadata": {},
     "output_type": "execute_result"
    },
    {
     "data": {
      "image/png": "[encoded data removed]",
      "text/plain": [
       "<matplotlib.figure.Figure at 0x214074a0c18>"
      ]
     },
     "metadata": {},
     "output_type": "display_data"
    }
   ],
   "source": [
    "plt.subplots(figsize=(20, 10))\n",
    "sb.countplot(data = train_target.sum(axis = 1), x = train_target.sum(axis = 1).index)\n",
    "plt.xlabel('num of labels')"
   ]
  },
  {
   "cell_type": "code",
   "execution_count": 47,
   "metadata": {
    "scrolled": true
   },
   "outputs": [
    {
     "data": {
      "text/plain": [
       "Text(0,0.5,'percentage of total labels')"
      ]
     },
     "execution_count": 47,
     "metadata": {},
     "output_type": "execute_result"
    },
    {
     "data": {
      "image/png": "[encoded data removed]",
      "text/plain": [
       "<matplotlib.figure.Figure at 0x192848935f8>"
      ]
     },
     "metadata": {},
     "output_type": "display_data"
    }
   ],
   "source": [
    "plt.subplots(figsize = (18, 10))\n",
    "sb.barplot(x = train_target.sum().index, y = train_target.sum()/train_target.shape[0])\n",
    "plt.xlabel('labels')\n",
    "plt.ylabel('percentage of total labels')"
   ]
  },
  {
   "cell_type": "markdown",
   "metadata": {},
   "source": [
    "As we seen above, this project is unbalance, and have multiple lables. "
   ]
  },
  {
   "cell_type": "code",
   "execution_count": 5,
   "metadata": {},
   "outputs": [
    {
     "name": "stdout",
     "output_type": "stream",
     "text": [
      "The mean of total length is 379.7732617071962\n",
      "The std of total length is 591.7677911923058\n",
      "The min of total length is 1\n",
      "The max of total length is 5000\n"
     ]
    }
   ],
   "source": [
    "lens = all_text.str.len()\n",
    "print('The mean of total length is {}'.format(lens.mean()))\n",
    "print('The std of total length is {}'.format(lens.std()))\n",
    "print('The min of total length is {}'.format(lens.min()))\n",
    "print('The max of total length is {}'.format(lens.max()))"
   ]
  },
  {
   "cell_type": "code",
   "execution_count": 6,
   "metadata": {},
   "outputs": [
    {
     "data": {
      "text/plain": [
       "Text(0,0.5,'counts')"
      ]
     },
     "execution_count": 6,
     "metadata": {},
     "output_type": "execute_result"
    },
    {
     "data": {
      "image/png": "[encoded data removed]",
      "text/plain": [
       "<Figure size 432x288 with 1 Axes>"
      ]
     },
     "metadata": {},
     "output_type": "display_data"
    }
   ],
   "source": [
    "lens.hist()\n",
    "plt.xlabel('length of each comment')\n",
    "plt.ylabel('counts')"
   ]
  },
  {
   "cell_type": "markdown",
   "metadata": {},
   "source": [
    "## Process the text data"
   ]
  },
  {
   "cell_type": "markdown",
   "metadata": {},
   "source": [
    "#### tf-idf method"
   ]
  },
  {
   "cell_type": "code",
   "execution_count": 7,
   "metadata": {},
   "outputs": [],
   "source": [
    "from sklearn.feature_extraction.text import TfidfVectorizer\n",
    "from sklearn.pipeline import make_union\n",
    "word_vectorizer = TfidfVectorizer(\n",
    "    sublinear_tf=True,\n",
    "    strip_accents='unicode',\n",
    "    analyzer='word',\n",
    "    token_pattern=r'\\w{1,}',\n",
    "    ngram_range=(1, 2),\n",
    "    max_features=30000)\n",
    "\n",
    "char_vectorizer = TfidfVectorizer(\n",
    "    sublinear_tf=True,\n",
    "    strip_accents='unicode',\n",
    "    analyzer='char',\n",
    "    ngram_range=(1, 4),\n",
    "    max_features=30000)\n",
    "\n",
    "vectorizer = make_union(word_vectorizer, char_vectorizer)"
   ]
  },
  {
   "cell_type": "code",
   "execution_count": 8,
   "metadata": {},
   "outputs": [
    {
     "name": "stdout",
     "output_type": "stream",
     "text": [
      "tf-idf method used 466.73894572257996 seconds\n"
     ]
    }
   ],
   "source": [
    "tf_start = time.time()\n",
    "vectorizer.fit(all_text)\n",
    "train_feature = vectorizer.transform(train_text)\n",
    "test_feature = vectorizer.transform(test_text)\n",
    "tf_end = time.time()\n",
    "tf_time = tf_end - tf_start\n",
    "print(\"tf-idf method used {} seconds\".format(tf_time))"
   ]
  },
  {
   "cell_type": "code",
   "execution_count": 9,
   "metadata": {},
   "outputs": [
    {
     "name": "stdout",
     "output_type": "stream",
     "text": [
      "Explanation\n",
      "Why the edits made under my username Hardcore Metallica Fan were reverted? They weren't vandalisms, just closure on some GAs after I voted at New York Dolls FAC. And please don't remove the template from the talk page since I'm retired now.89.205.38.27\n"
     ]
    }
   ],
   "source": [
    "sample = train_text[0:1]\n",
    "print(train_text[0])"
   ]
  },
  {
   "cell_type": "code",
   "execution_count": 10,
   "metadata": {},
   "outputs": [
    {
     "data": {
      "text/plain": [
       "(1, 30000)"
      ]
     },
     "execution_count": 10,
     "metadata": {},
     "output_type": "execute_result"
    }
   ],
   "source": [
    "sample_feature = word_vectorizer.transform(sample)\n",
    "word_array = sample_feature.toarray()\n",
    "word_array.shape"
   ]
  },
  {
   "cell_type": "markdown",
   "metadata": {},
   "source": [
    "#### GloVe method"
   ]
  },
  {
   "cell_type": "code",
   "execution_count": 11,
   "metadata": {},
   "outputs": [],
   "source": [
    "embed_size = 50 # how big is each word vector\n",
    "max_features = 20000 # how many unique words to use (i.e num rows in embedding vector)\n",
    "maxlen = 100 # max number of words in a comment to use"
   ]
  },
  {
   "cell_type": "code",
   "execution_count": 12,
   "metadata": {},
   "outputs": [],
   "source": [
    "glove_path_50d = open(\"F:\\word2vec\\glove\\glove.6B.50d.txt\", encoding = 'UTF-8')\n",
    "glove_path_25d = open(\"F:\\word2vec\\glove\\glove.twitter.27B.25d.txt\", encoding = 'UTF-8')\n",
    "glove_lines_50d = [line for line in glove_path_50d]\n",
    "glove_lines_25d = [line for line in glove_path_25d]"
   ]
  },
  {
   "cell_type": "code",
   "execution_count": 13,
   "metadata": {},
   "outputs": [],
   "source": [
    "def special_char(df, column):\n",
    "    df[column] = df[column].str.replace(r\"http\\S+\", \"\")\n",
    "    df[column] = df[column].str.replace(r\"http\", \"\")\n",
    "    df[column] = df[column].str.replace(r\"@\\S+\", \"\")\n",
    "    df[column] = df[column].str.replace(r\"[^A-Za-z0-9(),!?@\\'\\`\\\"\\_\\n]\", \" \")\n",
    "    df[column] = df[column].str.replace(r\"@\", \"at\")\n",
    "    df[column] = df[column].str.lower()\n",
    "    return df"
   ]
  },
  {
   "cell_type": "code",
   "execution_count": 14,
   "metadata": {},
   "outputs": [],
   "source": [
    "def get_array(lines):\n",
    "    key = lines[0]\n",
    "    value = np.asarray(lines.split()[1:], dtype = 'float32')\n",
    "    return key, value"
   ]
  },
  {
   "cell_type": "code",
   "execution_count": 15,
   "metadata": {},
   "outputs": [],
   "source": [
    "tokenizer = nltk.RegexpTokenizer(r'\\w+')\n",
    "stopwords = set(nltk.corpus.stopwords.words('english'))"
   ]
  },
  {
   "cell_type": "code",
   "execution_count": 16,
   "metadata": {},
   "outputs": [
    {
     "name": "stdout",
     "output_type": "stream",
     "text": [
      "The shape of train features is (159571, 100)\n",
      "The shape of test features is (153164, 100)\n",
      "GloVe method used 36.748377084732056 sceconds\n"
     ]
    },
    {
     "name": "stderr",
     "output_type": "stream",
     "text": [
      "C:\\Users\\f2002\\Anaconda3\\lib\\site-packages\\ipykernel_launcher.py:36: FutureWarning: arrays to stack must be passed as a \"sequence\" type such as list or tuple. Support for non-sequence iterables such as generators is deprecated as of NumPy 1.16 and will raise an error in the future.\n"
     ]
    }
   ],
   "source": [
    "gl_start = time.time()\n",
    "train_clearn = special_char(train, 'comment_text')\n",
    "train_clearn['comment_text'] = train_clearn['comment_text'].astype('str')\n",
    "train_clearn['comment_text'] = train_clearn['comment_text'].apply(tokenizer.tokenize)\n",
    "train_clearn['comment_text'] = train_clearn['comment_text'].apply(lambda vec: [word for word in vec if word not in stopwords])       \n",
    "test_clearn = special_char(test, 'comment_text')\n",
    "test_clearn['comment_text'] = test_clearn['comment_text'].astype('str')\n",
    "test_clearn['comment_text'] = test_clearn['comment_text'].apply(tokenizer.tokenize)\n",
    "test_clearn['comment_text'] = test_clearn['comment_text'].apply(lambda vec: [word for word in vec if word not in stopwords])\n",
    "\n",
    "train_words = [word for tokens in train_clearn['comment_text'] for word in tokens]\n",
    "train_sequence_length = [len(sequence) for sequence in train_clearn['comment_text']]\n",
    "num_train_words = len(set(train_words))\n",
    "\n",
    "test_words = [word for tokens in test_clearn['comment_text'] for word in tokens]\n",
    "test_sequence_length = [len(sequence) for sequence in test_clearn['comment_text']]\n",
    "num_test_words = len(set(test_words))\n",
    "\n",
    "all_words = [train_words, test_words]\n",
    "\n",
    "list_sentences_train = train['comment_text'].fillna('NA').values\n",
    "list_sentences_test = test['comment_text'].fillna('NA').values\n",
    "\n",
    "tokenizer = Tokenizer(num_words=max_features)\n",
    "tokenizer.fit_on_texts(list(all_words))\n",
    "list_tokenized_train = tokenizer.texts_to_sequences(list_sentences_train)\n",
    "list_tokenized_test = tokenizer.texts_to_sequences(list_sentences_test)\n",
    "X_train = pad_sequences(list_tokenized_train, maxlen = maxlen)\n",
    "X_test = pad_sequences(list_tokenized_test, maxlen = maxlen)\n",
    "\n",
    "word_dict = {}\n",
    "for line in glove_lines_50d:\n",
    "    key, value = get_array(line)\n",
    "    word_dict[key] = value\n",
    "\n",
    "all_emd = np.stack(word_dict.values())\n",
    "mean_emd, std_emd = all_emd.mean(), all_emd.std()\n",
    "\n",
    "\n",
    "word_index = tokenizer.word_index\n",
    "nb_words = min(max_features, len(word_index))\n",
    "embedding_matrix = np.random.normal(mean_emd, std_emd, (nb_words, embed_size))\n",
    "for word, i in word_index.items():\n",
    "    if i >= max_features: continue\n",
    "    embedding_vector = word_dict.get(word)\n",
    "    if embedding_vector is not None: embedding_matrix[i] = embedding_vector\n",
    "        \n",
    "gl_end = time.time()\n",
    "gl_time = gl_end - gl_start\n",
    "print('The shape of train features is {}'.format(X_train.shape))\n",
    "print('The shape of test features is {}'.format(X_test.shape))\n",
    "print(\"GloVe method used {} sceconds\".format(gl_time))"
   ]
  },
  {
   "cell_type": "markdown",
   "metadata": {},
   "source": [
    "### Implementation"
   ]
  },
  {
   "cell_type": "markdown",
   "metadata": {},
   "source": [
    "#### RL"
   ]
  },
  {
   "cell_type": "code",
   "execution_count": 17,
   "metadata": {},
   "outputs": [],
   "source": [
    "classes = []\n",
    "for col in train_target:\n",
    "    classes.append(col)\n",
    "scores = []\n",
    "result = pd.DataFrame({'id': test['id']})"
   ]
  },
  {
   "cell_type": "code",
   "execution_count": 22,
   "metadata": {},
   "outputs": [
    {
     "name": "stdout",
     "output_type": "stream",
     "text": [
      "CV score for class toxic is 0.9790445977929293\n",
      "CV score for class severe_toxic is 0.988638787302205\n",
      "CV score for class obscene is 0.9903770335907931\n",
      "CV score for class threat is 0.9894627831342815\n",
      "CV score for class insult is 0.9831760654886482\n",
      "CV score for class identity_hate is 0.9834212393149737\n",
      "Total CV score is 0.9847378720595371\n",
      "logisticregression method used 696.0699405670166 seconds\n"
     ]
    }
   ],
   "source": [
    "lr_start = time.time()\n",
    "for class_name in classes:\n",
    "    target = train_target[class_name]\n",
    "    classifier = LogisticRegression()\n",
    "    #x_nv = get_nv(train_feature, target)\n",
    "    cv_score = np.mean(cross_val_score(\n",
    "        classifier, train_feature, target, cv=5, scoring='roc_auc'))\n",
    "    scores.append(cv_score)\n",
    "    print('CV score for class {} is {}'.format(class_name, cv_score))\n",
    "    #plt_learning_curve(estimator = classifier, train_feature, target, train_size = np.linspace(0.1, 1.0, 10), scorer = 'roc_auc', cv = 5)\n",
    "    #train_mean = np.mean(train_scores, axis = 1)\n",
    "    #val_mean = np.mean(val_scores, axis = 1)\n",
    "    #plt.plot(train_sizes, train_mean, color = 'blue', marker = 'o', label = 'training')\n",
    "    #plt.plot(train_sizes, val_mean, color = 'red', marker = 'x', label = 'validation')\n",
    "    #plt.grid()\n",
    "    #plt.title(class_name)\n",
    "    #plt.xlabel('Number of training sample')\n",
    "    #plt.ylabel('ROC-AUC')\n",
    "    #plt.ylim([0.8, 1.0])\n",
    "    #plt.legend(loc = 'lower right')\n",
    "    #plt.show()\n",
    "    classifier.fit(train_feature, target)\n",
    "    #predictions = classifier.predict(X_val)\n",
    "    #score = roc_auc_score(predictions, y_val[class_name])\n",
    "    #scores.append(score)\n",
    "    #print('The auc score for class {} is {}'.format(class_name, score))    \n",
    "    result[class_name] = classifier.predict_proba(test_feature)\n",
    "lr_end = time.time()\n",
    "lr_time = lr_end - lr_start\n",
    "print('Total CV score is {}'.format(np.mean(scores)))\n",
    "print('logisticregression method used {} seconds'.format(lr_time))\n"
   ]
  },
  {
   "cell_type": "code",
   "execution_count": 23,
   "metadata": {},
   "outputs": [
    {
     "data": {
      "text/html": [
       "<div>\n",
       "<style scoped>\n",
       "    .dataframe tbody tr th:only-of-type {\n",
       "        vertical-align: middle;\n",
       "    }\n",
       "\n",
       "    .dataframe tbody tr th {\n",
       "        vertical-align: top;\n",
       "    }\n",
       "\n",
       "    .dataframe thead th {\n",
       "        text-align: right;\n",
       "    }\n",
       "</style>\n",
       "<table border=\"1\" class=\"dataframe\">\n",
       "  <thead>\n",
       "    <tr style=\"text-align: right;\">\n",
       "      <th></th>\n",
       "      <th>id</th>\n",
       "      <th>toxic</th>\n",
       "      <th>severe_toxic</th>\n",
       "      <th>obscene</th>\n",
       "      <th>threat</th>\n",
       "      <th>insult</th>\n",
       "      <th>identity_hate</th>\n",
       "    </tr>\n",
       "  </thead>\n",
       "  <tbody>\n",
       "    <tr>\n",
       "      <th>0</th>\n",
       "      <td>00001cee341fdb12</td>\n",
       "      <td>0.000097</td>\n",
       "      <td>0.775050</td>\n",
       "      <td>0.000302</td>\n",
       "      <td>0.94657</td>\n",
       "      <td>0.022016</td>\n",
       "      <td>0.729852</td>\n",
       "    </tr>\n",
       "    <tr>\n",
       "      <th>1</th>\n",
       "      <td>0000247867823ef7</td>\n",
       "      <td>0.993827</td>\n",
       "      <td>0.998004</td>\n",
       "      <td>0.996759</td>\n",
       "      <td>0.99959</td>\n",
       "      <td>0.995547</td>\n",
       "      <td>0.997945</td>\n",
       "    </tr>\n",
       "    <tr>\n",
       "      <th>2</th>\n",
       "      <td>00013b17ad220c46</td>\n",
       "      <td>0.989173</td>\n",
       "      <td>0.997714</td>\n",
       "      <td>0.992846</td>\n",
       "      <td>0.99938</td>\n",
       "      <td>0.996501</td>\n",
       "      <td>0.998758</td>\n",
       "    </tr>\n",
       "    <tr>\n",
       "      <th>3</th>\n",
       "      <td>00017563c3f7919a</td>\n",
       "      <td>0.996566</td>\n",
       "      <td>0.998763</td>\n",
       "      <td>0.997472</td>\n",
       "      <td>0.99922</td>\n",
       "      <td>0.997353</td>\n",
       "      <td>0.999408</td>\n",
       "    </tr>\n",
       "    <tr>\n",
       "      <th>4</th>\n",
       "      <td>00017695ad8997eb</td>\n",
       "      <td>0.982304</td>\n",
       "      <td>0.998538</td>\n",
       "      <td>0.995168</td>\n",
       "      <td>0.99924</td>\n",
       "      <td>0.994046</td>\n",
       "      <td>0.999081</td>\n",
       "    </tr>\n",
       "  </tbody>\n",
       "</table>\n",
       "</div>"
      ],
      "text/plain": [
       "                 id     toxic  severe_toxic   obscene   threat    insult  \\\n",
       "0  00001cee341fdb12  0.000097      0.775050  0.000302  0.94657  0.022016   \n",
       "1  0000247867823ef7  0.993827      0.998004  0.996759  0.99959  0.995547   \n",
       "2  00013b17ad220c46  0.989173      0.997714  0.992846  0.99938  0.996501   \n",
       "3  00017563c3f7919a  0.996566      0.998763  0.997472  0.99922  0.997353   \n",
       "4  00017695ad8997eb  0.982304      0.998538  0.995168  0.99924  0.994046   \n",
       "\n",
       "   identity_hate  \n",
       "0       0.729852  \n",
       "1       0.997945  \n",
       "2       0.998758  \n",
       "3       0.999408  \n",
       "4       0.999081  "
      ]
     },
     "execution_count": 23,
     "metadata": {},
     "output_type": "execute_result"
    }
   ],
   "source": [
    "result.head()"
   ]
  },
  {
   "cell_type": "code",
   "execution_count": 34,
   "metadata": {},
   "outputs": [
    {
     "data": {
      "text/plain": [
       "Text(0,0.5,'probability')"
      ]
     },
     "execution_count": 34,
     "metadata": {},
     "output_type": "execute_result"
    },
    {
     "data": {
      "image/png": "[encoded data removed]",
      "text/plain": [
       "<Figure size 432x288 with 1 Axes>"
      ]
     },
     "metadata": {},
     "output_type": "display_data"
    }
   ],
   "source": [
    "plt.bar(classes, result.loc[0].drop('id'))\n",
    "plt.xlabel('classes')\n",
    "plt.ylabel('probability')"
   ]
  },
  {
   "cell_type": "markdown",
   "metadata": {},
   "source": [
    "#### LSTM"
   ]
  },
  {
   "cell_type": "code",
   "execution_count": 105,
   "metadata": {},
   "outputs": [
    {
     "name": "stderr",
     "output_type": "stream",
     "text": [
      "C:\\Users\\f2002\\Anaconda3\\lib\\site-packages\\sklearn\\model_selection\\_split.py:2026: FutureWarning: From version 0.21, test_size will always complement train_size unless both are specified.\n",
      "  FutureWarning)\n"
     ]
    }
   ],
   "source": [
    "class RocAucEvaluation(Callback):\n",
    "    def __init__(self, validation_data=(), interval=1):\n",
    "        super(Callback, self).__init__()\n",
    "\n",
    "        self.interval = interval\n",
    "        self.X_val, self.y_val = validation_data\n",
    "\n",
    "    def on_epoch_end(self, epoch, logs={}):\n",
    "        if epoch % self.interval == 0:\n",
    "            y_pred = self.model.predict(self.X_val, verbose=0)\n",
    "            score = roc_auc_score(self.y_val, y_pred)\n",
    "            print(\"\\n ROC-AUC - epoch: {:d} - score: {:.6f}\".format(epoch, score))\n",
    "def schedule(ind):\n",
    "    a = [0.000, 0.001, 0.002, 0.003, 0.004, 0.005]\n",
    "    return a[ind]\n",
    "lr = callbacks.LearningRateScheduler(schedule)\n",
    "[X_tr, X_val, y_tr, y_val] = train_test_split(X_train, train_target, train_size=0.95)\n",
    "\n",
    "ra_val = RocAucEvaluation(validation_data=(X_val, y_val), interval=1)"
   ]
  },
  {
   "cell_type": "code",
   "execution_count": 151,
   "metadata": {},
   "outputs": [],
   "source": [
    "inp = Input(shape=(maxlen,))\n",
    "x = Embedding(max_features, embed_size, weights=[embedding_matrix], trainable=True)(inp)\n",
    "x = Bidirectional(LSTM(100, return_sequences=True, dropout=0.2))(x)\n",
    "x = GlobalMaxPool1D()(x)\n",
    "x = BatchNormalization()(x)\n",
    "x = Dense(50, activation=\"relu\")(x)\n",
    "#x = BatchNormalization()(x)\n",
    "x = Dropout(0.2)(x)\n",
    "x = Dense(6, activation=\"sigmoid\")(x)\n",
    "model_l = Model(inputs=inp, outputs=x)\n",
    "\n",
    "import keras.backend as K\n",
    "def loss(y_true, y_pred):\n",
    "     return K.binary_crossentropy(y_true, y_pred)\n",
    "    \n",
    "model_l.compile(loss=loss, optimizer='nadam', metrics=['accuracy'])"
   ]
  },
  {
   "cell_type": "code",
   "execution_count": 152,
   "metadata": {
    "scrolled": true
   },
   "outputs": [
    {
     "name": "stdout",
     "output_type": "stream",
     "text": [
      "Train on 151592 samples, validate on 7979 samples\n",
      "Epoch 1/5\n",
      "151592/151592 [==============================] - 598s 4ms/step - loss: 0.9772 - acc: 0.0455 - val_loss: 0.9250 - val_acc: 0.0312\n",
      "\n",
      " ROC-AUC - epoch: 0 - score: 0.530959\n",
      "Epoch 2/5\n",
      "151592/151592 [==============================] - 591s 4ms/step - loss: 0.0968 - acc: 0.7718 - val_loss: 0.0578 - val_acc: 0.9827\n",
      "\n",
      " ROC-AUC - epoch: 1 - score: 0.956950\n",
      "Epoch 3/5\n",
      "151592/151592 [==============================] - 593s 4ms/step - loss: 0.0582 - acc: 0.9582 - val_loss: 0.0516 - val_acc: 0.9921\n",
      "\n",
      " ROC-AUC - epoch: 2 - score: 0.974933\n",
      "Epoch 4/5\n",
      "151592/151592 [==============================] - 607s 4ms/step - loss: 0.0502 - acc: 0.9830 - val_loss: 0.0485 - val_acc: 0.9919\n",
      "\n",
      " ROC-AUC - epoch: 3 - score: 0.979979\n",
      "Epoch 5/5\n",
      "151592/151592 [==============================] - 612s 4ms/step - loss: 0.0463 - acc: 0.9683 - val_loss: 0.0480 - val_acc: 0.9694\n",
      "\n",
      " ROC-AUC - epoch: 4 - score: 0.980123\n",
      "LSTM method used 3085.585523366928 seconds\n"
     ]
    }
   ],
   "source": [
    "ls_start = time.time()\n",
    "history_l = model_l.fit(X_tr, y_tr, validation_data=(X_val, y_val), batch_size=64, epochs = 5, callbacks=[lr, ra_val])\n",
    "ls_end = time.time()\n",
    "ls_time = ls_end - ls_start\n",
    "print('LSTM method used {} seconds'.format(ls_time))\n"
   ]
  },
  {
   "cell_type": "code",
   "execution_count": 163,
   "metadata": {
    "scrolled": true
   },
   "outputs": [
    {
     "data": {
      "image/png": "[encoded data removed]",
      "text/plain": [
       "<Figure size 432x288 with 1 Axes>"
      ]
     },
     "metadata": {},
     "output_type": "display_data"
    }
   ],
   "source": [
    "plt.plot(history_l.history['loss'], color = 'blue', marker = 'o', label = 'train')\n",
    "plt.plot(history_l.history['val_loss'], color = 'red', marker = 'x', label = 'validation')\n",
    "plt.title('LSTM')\n",
    "plt.grid()\n",
    "plt.xlabel('epoch')\n",
    "plt.ylabel('acc')\n",
    "plt.legend(loc = 'upper right')\n",
    "plt.ylim([0, 1])\n",
    "plt.show()\n"
   ]
  },
  {
   "cell_type": "markdown",
   "metadata": {},
   "source": [
    "#### GRU"
   ]
  },
  {
   "cell_type": "code",
   "execution_count": 153,
   "metadata": {},
   "outputs": [],
   "source": [
    "inp = Input(shape=(maxlen, ))\n",
    "g = Embedding(max_features, embed_size, weights=[embedding_matrix], trainable=True)(inp)\n",
    "g = Bidirectional(GRU(100, return_sequences=True))(g)\n",
    "g = GlobalMaxPooling1D()(g)\n",
    "g = BatchNormalization()(g)\n",
    "g = Dense(50, activation = 'relu')(g)\n",
    "#g = Dropout(0.1)(g)\n",
    "g = Dense(6, activation=\"sigmoid\")(g)\n",
    "    \n",
    "model_g = Model(inputs=inp, outputs=g)\n",
    "model_g.compile(loss='binary_crossentropy',\n",
    "                  optimizer='adam',\n",
    "                  metrics=['accuracy'])"
   ]
  },
  {
   "cell_type": "code",
   "execution_count": 154,
   "metadata": {},
   "outputs": [
    {
     "name": "stdout",
     "output_type": "stream",
     "text": [
      "Train on 151592 samples, validate on 7979 samples\n",
      "Epoch 1/5\n",
      "151592/151592 [==============================] - 472s 3ms/step - loss: 0.7311 - acc: 0.5963 - val_loss: 0.7317 - val_acc: 0.5966\n",
      "\n",
      " ROC-AUC - epoch: 0 - score: 0.528507\n",
      "Epoch 2/5\n",
      "151592/151592 [==============================] - 468s 3ms/step - loss: 0.0824 - acc: 0.9745 - val_loss: 0.0586 - val_acc: 0.9806\n",
      "\n",
      " ROC-AUC - epoch: 1 - score: 0.962603\n",
      "Epoch 3/5\n",
      "151592/151592 [==============================] - 467s 3ms/step - loss: 0.0547 - acc: 0.9808 - val_loss: 0.0532 - val_acc: 0.9821\n",
      "\n",
      " ROC-AUC - epoch: 2 - score: 0.978777\n",
      "Epoch 4/5\n",
      "151592/151592 [==============================] - 465s 3ms/step - loss: 0.0471 - acc: 0.9825 - val_loss: 0.0487 - val_acc: 0.9825\n",
      "\n",
      " ROC-AUC - epoch: 3 - score: 0.980251\n",
      "Epoch 5/5\n",
      "151592/151592 [==============================] - 465s 3ms/step - loss: 0.0436 - acc: 0.9833 - val_loss: 0.0495 - val_acc: 0.9816\n",
      "\n",
      " ROC-AUC - epoch: 4 - score: 0.979757\n",
      "GRU method used 2409.7065284252167 seconds\n"
     ]
    }
   ],
   "source": [
    "g_start = time.time()\n",
    "history_g = model_g.fit(X_tr, y_tr, validation_data = (X_val, y_val), batch_size=64, epochs=5, callbacks = [lr, ra_val])\n",
    "g_end = time.time()\n",
    "g_time = g_end - g_start\n",
    "print('GRU method used {} seconds'.format(g_time))\n"
   ]
  },
  {
   "cell_type": "code",
   "execution_count": 162,
   "metadata": {},
   "outputs": [
    {
     "data": {
      "image/png": "[encoded data removed]",
      "text/plain": [
       "<Figure size 432x288 with 1 Axes>"
      ]
     },
     "metadata": {},
     "output_type": "display_data"
    }
   ],
   "source": [
    "plt.plot(history_g.history['loss'], color = 'blue', marker = 'o', label = 'train')\n",
    "plt.plot(history_g.history['val_loss'], color = 'red', marker = 'x', label = 'validation')\n",
    "plt.grid()\n",
    "plt.title('GRU')\n",
    "plt.xlabel('epoch')\n",
    "plt.ylabel('acc')\n",
    "plt.legend(loc = 'upper right')\n",
    "plt.ylim([0, 0.8])\n",
    "plt.show()"
   ]
  }
 ],
 "metadata": {
  "kernelspec": {
   "display_name": "Python 3",
   "language": "python",
   "name": "python3"
  },
  "language_info": {
   "codemirror_mode": {
    "name": "ipython",
    "version": 3
   },
   "file_extension": ".py",
   "mimetype": "text/x-python",
   "name": "python",
   "nbconvert_exporter": "python",
   "pygments_lexer": "ipython3",
   "version": "3.6.4"
  }
 },
 "nbformat": 4,
 "nbformat_minor": 2
}
